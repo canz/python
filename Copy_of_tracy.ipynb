{
  "nbformat": 4,
  "nbformat_minor": 0,
  "metadata": {
    "colab": {
      "provenance": [],
      "authorship_tag": "ABX9TyNbVLkBTNyXEkopTXuQhYnY",
      "include_colab_link": true
    },
    "kernelspec": {
      "name": "python3",
      "display_name": "Python 3"
    },
    "language_info": {
      "name": "python"
    }
  },
  "cells": [
    {
      "cell_type": "markdown",
      "metadata": {
        "id": "view-in-github",
        "colab_type": "text"
      },
      "source": [
        "<a href=\"https://colab.research.google.com/github/canz/python/blob/master/Copy_of_tracy.ipynb\" target=\"_parent\"><img src=\"https://colab.research.google.com/assets/colab-badge.svg\" alt=\"Open In Colab\"/></a>"
      ]
    },
    {
      "cell_type": "code",
      "execution_count": null,
      "metadata": {
        "colab": {
          "base_uri": "https://localhost:8080/"
        },
        "id": "jnBFygDV9abP",
        "outputId": "aec30404-17cd-45ff-c213-b45fc6b3117f"
      },
      "outputs": [
        {
          "output_type": "stream",
          "name": "stdout",
          "text": [
            "Drive already mounted at /content/drive; to attempt to forcibly remount, call drive.mount(\"/content/drive\", force_remount=True).\n",
            "mkdir: cannot create directory ‘/root/.kaggle’: File exists\n",
            "ref                                                        title                                            size  lastUpdated          downloadCount  voteCount  usabilityRating  \n",
            "---------------------------------------------------------  ----------------------------------------------  -----  -------------------  -------------  ---------  ---------------  \n",
            "nelgiriyewithana/top-spotify-songs-2023                    Most Streamed Spotify Songs 2023                 47KB  2023-08-26 11:04:57           6378        211  1.0              \n",
            "nelgiriyewithana/global-youtube-statistics-2023            Global YouTube Statistics 2023                   60KB  2023-07-28 15:36:38          16846        553  1.0              \n",
            "devanshinigam/popular-movies-top-250-movies-imdb           Popular Movies (Top 250 movies IMDb)              9KB  2023-09-08 11:06:29            544         25  1.0              \n",
            "joebeachcapital/students-performance                       Students Performance                              2KB  2023-08-31 00:50:11           1873         44  1.0              \n",
            "iamsouravbanerjee/airline-dataset                          Airline Dataset                                   4MB  2023-08-30 12:03:12           2631         71  1.0              \n",
            "rukenmissonnier/age-weight-height-bmi-analysis             Age, Weight, Height, BMI Analysis                11KB  2023-09-01 22:23:49            703         23  0.88235295       \n",
            "jjinho/wikipedia-2023-07-faiss-index                       Wikipedia 2023 07 faiss index                     5GB  2023-07-17 01:57:37            498         36  1.0              \n",
            "alitaqi000/world-university-rankings-2023                  World University Rankings 2023                   70KB  2023-08-31 14:35:38           1608         45  1.0              \n",
            "mohammadtalib786/retail-sales-dataset                      Retail Sales Dataset                             11KB  2023-08-22 18:33:09           2079         46  1.0              \n",
            "joebeachcapital/nba-player-statistics                      NBA Player Statistics                            33KB  2023-08-30 00:42:08            545         35  1.0              \n",
            "joebeachcapital/fifa-world-cups                            FIFA World Cups                                 203KB  2023-08-23 02:58:23            996         36  1.0              \n",
            "yashkmd/credit-profile-two-wheeler-loan-dataset            Credit Profile (Two-wheeler loan) Dataset         8MB  2023-08-28 18:06:45            610         25  1.0              \n",
            "uom190346a/water-quality-and-potability                    Water Quality and Potability                    251KB  2023-09-04 07:25:50            903         39  1.0              \n",
            "carlmcbrideellis/zzzs-lightweight-training-dataset-target  Zzzs: Lightweight training dataset + target     185MB  2023-09-11 07:21:51            126         35  1.0              \n",
            "timmofeyy/hourly-earnings-of-female-and-male-employees     💸 Hourly Earnings of Female and Male Employees   12KB  2023-08-18 16:05:36            734         22  1.0              \n",
            "jjinho/wikipedia-20230701                                  Wikipedia Plaintext (2023-07-01)                 12GB  2023-07-17 01:43:57            981         78  1.0              \n",
            "judith007/my-1-epoch                                       Kaggle_LLM_Deberta                                1GB  2023-08-19 07:26:25             69         14  0.6875           \n",
            "joebeachcapital/suicides                                   Suicides                                         43KB  2023-08-22 05:33:49            659         22  1.0              \n",
            "nanditapore/credit-risk-analysis                           Credit_Risk_Analysis                            414KB  2023-08-28 05:44:31            896         22  0.7647059        \n",
            "sooyoungher/smoking-drinking-dataset                       Smoking and Drinking Dataset with body signal    27MB  2023-08-30 04:27:31           1289         49  1.0              \n"
          ]
        }
      ],
      "source": [
        "# Mount your Google Drive.\n",
        "from google.colab import drive\n",
        "drive.mount(\"/content/drive\")\n",
        "\n",
        "kaggle_creds_path = \"/content/drive/MyDrive/kaggle/api/kaggle.json\"\n",
        "#from google.colab import files\n",
        "#files.upload()\n",
        "\n",
        "! pip install kaggle --quiet\n",
        "! mkdir ~/.kaggle\n",
        "! cp {kaggle_creds_path} ~/.kaggle/\n",
        "! chmod 600 ~/.kaggle/kaggle.json\n",
        "! kaggle datasets list\n",
        "\n",
        "drive.flush_and_unmount()\n",
        "\n",
        "\n",
        "#! kaggle competitions download -c 'name-of-competition'\n",
        "#! mkdir train\n",
        "#! unzip train.zip -d train"
      ]
    },
    {
      "cell_type": "code",
      "source": [
        "from google.colab import drive\n",
        "drive.mount(\"/content/drive\")"
      ],
      "metadata": {
        "colab": {
          "base_uri": "https://localhost:8080/"
        },
        "id": "rQRbGybc_NpY",
        "outputId": "6d9432bc-8b5a-448e-be55-2abdd7a93c89"
      },
      "execution_count": null,
      "outputs": [
        {
          "output_type": "stream",
          "name": "stdout",
          "text": [
            "Mounted at /content/drive\n"
          ]
        }
      ]
    }
  ]
}